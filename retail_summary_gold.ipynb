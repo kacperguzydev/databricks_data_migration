{
 "cells": [
  {
   "cell_type": "code",
   "execution_count": 0,
   "metadata": {
    "application/vnd.databricks.v1+cell": {
     "cellMetadata": {
      "byteLimit": 2048000,
      "rowLimit": 10000
     },
     "inputWidgets": {},
     "nuid": "72f7dac7-b743-4bf6-be6e-71d20900e41b",
     "showTitle": false,
     "tableResultSettingsMap": {},
     "title": ""
    }
   },
   "outputs": [
    {
     "output_type": "stream",
     "name": "stdout",
     "output_type": "stream",
     "text": [
      "data saved in tables.\n"
     ]
    }
   ],
   "source": [
    "from pyspark.sql.functions import col, sum, count, avg, desc, month, year\n",
    "\n",
    "# Load data\n",
    "df = spark.read.format(\"delta\").load(\"/mnt/silver/retail_cleaned\")\n",
    "\n",
    "# Save data\n",
    "df.write.format(\"delta\").mode(\"overwrite\").saveAsTable(\"retail_orders_gold\")\n",
    "\n",
    "# Sales by Region\n",
    "sales_by_region = df.groupBy(\"region\").agg(\n",
    "    sum(\"sales\").alias(\"total_sales\")\n",
    ")\n",
    "sales_by_region.write.format(\"delta\").mode(\"overwrite\").saveAsTable(\"sales_by_region\")\n",
    "\n",
    "# Top Selling Products\n",
    "top_products = df.groupBy(\"product_name\").agg(\n",
    "    count(\"order_id\").alias(\"total_orders\"),\n",
    "    sum(\"sales\").alias(\"total_revenue\")\n",
    ").orderBy(desc(\"total_revenue\")).limit(10)\n",
    "top_products.write.format(\"delta\").mode(\"overwrite\").saveAsTable(\"top_products\")\n",
    "\n",
    "# Monthly Sales\n",
    "monthly_sales = df.withColumn(\"month\", month(\"order_date\")).groupBy(\"month\").agg(\n",
    "    sum(\"sales\").alias(\"monthly_sales\")\n",
    ")\n",
    "monthly_sales.write.format(\"delta\").mode(\"overwrite\").saveAsTable(\"monthly_sales\")\n",
    "\n",
    "# Average Shipping Cost\n",
    "avg_shipping_cost = df.agg(\n",
    "    avg(\"shipping_cost\").alias(\"avg_shipping_cost\")\n",
    ")\n",
    "avg_shipping_cost.write.format(\"delta\").mode(\"overwrite\").saveAsTable(\"avg_shipping_cost\")\n",
    "\n",
    "# Total Orders Summary\n",
    "order_count = df.select(\"order_id\").distinct().count()\n",
    "summary_df = spark.createDataFrame([(order_count,)], [\"total_orders\"])\n",
    "summary_df.write.format(\"delta\").mode(\"overwrite\").saveAsTable(\"total_orders_summary\")\n",
    "\n",
    "print(\"data saved in tables.\")\n"
   ]
  }
 ],
 "metadata": {
  "application/vnd.databricks.v1+notebook": {
   "computePreferences": null,
   "dashboards": [],
   "environmentMetadata": {
    "base_environment": "",
    "environment_version": "1"
   },
   "inputWidgetPreferences": null,
   "language": "python",
   "notebookMetadata": {
    "pythonIndentUnit": 4
   },
   "notebookName": "retail_summary_gold",
   "widgets": {}
  }
 },
 "nbformat": 4,
 "nbformat_minor": 0
}